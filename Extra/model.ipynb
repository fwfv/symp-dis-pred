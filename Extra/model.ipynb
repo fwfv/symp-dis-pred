import pandas as pd
import joblib
from sklearn.tree import DecisionTreeClassifier
from sklearn.model_selection import train_test_split
from sklearn.metrics import accuracy_score
data = pd.read_csv('dataset.csv')
column_names = ['Chest discomfort', 'Shortness of breath', 'Fatigue', 'Rapid heartbeat', 'Dizziness',
    'Cough', 'Fever', 'Chronic cough', 'Wheezing', 'Chest tightness',
    'Frequent respiratory infections', 'Increased thirst', 'Frequent urination', 'Unexplained weight loss',
    'Slow healing infections', 'Pain', 'Changes in the skin', 'Changes in bowel habits', 'Headaches',
    'Blurred vision', 'Nosebleeds', 'Memory loss', 'Difficulty solving problems', 'Challenges in completing familiar tasks',
    'Confusion with time', 'Changes in mood', 'Diarrhea', 'Abdominal cramps', 'Nausea', 'Vomiting',
    'Cough lasting more than three weeks', 'Chest pain', 'Weight loss', 'Chills', 'Sweating',
    'Nausea and vomiting', 'Swollen lymph nodes', 'Recurrent infections', 'Weakness', 'Swelling of extremities',
    'Delayed wound healing', 'Swelling in legs', 'Persistent itching', 'High blood pressure', 'Jaundice',
    'Abdominal pain', 'Easy bruising', 'Dark urine', 'Joint pain', 'Stiffness', 'Decreased range of motion',
    'Swelling', 'Grating sensation in the joints', 'Loss of height over time', 'Back pain', 'Stooped posture',
    'Fractures', 'Gradual loss of bone density', 'Sudden high fever', 'Severe headaches', 'Pain behind the eyes',
    'Joint and muscle pain', 'Skin rash', 'Persistent sadness', 'Loss of interest', 'Changes in appetite',
    'Sleep disturbances', 'Excessive worrying', 'Restlessness', 'Difficulty concentrating', 'Muscle tension',
    'Irritability', 'Delusions', 'Hallucinations', 'Disorganized thinking', 'Impaired concentration', 'Lack of motivation',
    'Excessive body weight', 'Increased body fat', 'Breathlessness', 'Low energy levels', 'Weight changes',
    'Hair loss', 'Intolerance to cold or heat', 'Changes in heart rate', 'Rectal bleeding', 'Clay colored stools',
    'Joint pain and swelling', 'Warmth and redness around joints', 'Reduced joint function', 'Sensitivity to light and sound',
    'Visual disturbances', 'Throbbing pain', 'Seizures', 'Temporary confusion', 'Staring spells',
    'Uncontrollable jerking movements', 'Loss of consciousness', 'Fading of colors', 'Sensitivity to light',
    'Difficulty seeing at night', 'Double vision', 'Gradual loss of peripheral vision', 'Halos around lights',
    'Eye redness', 'Itching in the anal region', 'Swelling around the anus', 'Pain during bowel movements',
    'Lumps near the anus','Disease',]
data.columns = column_names
X = data.drop(columns='Disease')
y = data['Disease']
X_train, X_test, y_train, y_test = train_test_split(X, y, test_size=0.3)
clf = DecisionTreeClassifier()
clf.fit(X_train, y_train)
test = clf.predict(X_test)
test
y_test
accuracy = accuracy_score(y_test, test)
accuracy
disease = clf.predict([[1, 1, 1, 1, 1, 0, 0, 0, 0, 0, 0, 0, 0, 0, 0, 0, 0, 0, 0, 0, 0, 0, 0, 0, 0, 0, 0, 0, 0, 0, 0, 0, 0, 0, 0, 0, 0, 0, 0, 0, 0, 0, 0, 0, 0, 0, 0, 0, 0, 0, 0, 0, 0, 0, 0, 0, 0, 0, 0, 0, 0, 0, 0, 0, 0, 0, 0, 0, 0, 0, 0, 0, 0, 0, 0, 0, 0, 0, 0, 0, 0, 0, 0, 0, 0, 0, 0, 0, 0, 0, 0, 0, 0, 0, 0, 0, 0, 0, 0, 0, 0, 0, 0, 0, 0, 0, 0, 0, 0]])
print(disease)
joblib.dump(clf, 'success.joblib')
